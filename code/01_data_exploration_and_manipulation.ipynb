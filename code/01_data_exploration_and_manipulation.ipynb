{
 "cells": [
  {
   "cell_type": "markdown",
   "id": "ac1a9698",
   "metadata": {},
   "source": [
    "<h1>Data Exploration & Manipulation</h1>\n",
    "\n",
    "Code to format & explore all data\n",
    "\n",
    "Haley Johnson"
   ]
  },
  {
   "cell_type": "code",
   "execution_count": 5,
   "id": "74d86066",
   "metadata": {},
   "outputs": [],
   "source": [
    "import os \n",
    "import pandas as pd\n",
    "import numpy as np "
   ]
  },
  {
   "cell_type": "code",
   "execution_count": 70,
   "id": "48eb2550",
   "metadata": {},
   "outputs": [],
   "source": [
    "pd.options.mode.chained_assignment = None"
   ]
  },
  {
   "cell_type": "markdown",
   "id": "8ff6c170",
   "metadata": {},
   "source": [
    "<h2>Load Data</h2>"
   ]
  },
  {
   "cell_type": "code",
   "execution_count": 27,
   "id": "96c3fef0",
   "metadata": {},
   "outputs": [
    {
     "data": {
      "text/plain": [
       "['.DS_Store',\n",
       " 'best_post_2017_f2f_survey.spss',\n",
       " 'ons_2021_by_parl_constituency.csv',\n",
       " 'best_post_2019_rand_prob.spss']"
      ]
     },
     "execution_count": 27,
     "metadata": {},
     "output_type": "execute_result"
    }
   ],
   "source": [
    "os.listdir('../data/raw')"
   ]
  },
  {
   "cell_type": "code",
   "execution_count": 37,
   "id": "afebeb7d",
   "metadata": {},
   "outputs": [],
   "source": [
    "demog = pd.read_csv('../data/raw/ons_2021_by_parl_constituency.csv')\n",
    "\n",
    "demog.columns = ['constiuency_code', 'constiuency_name', 'age_code', 'age_name', \n",
    "              'qual_code', 'qual_name', 'sex_code', 'sex_name', 'n']"
   ]
  },
  {
   "cell_type": "code",
   "execution_count": 23,
   "id": "7811c9db",
   "metadata": {},
   "outputs": [],
   "source": [
    "survey = pd.read_spss('../data/raw/best_post_2017_f2f_survey.spss')"
   ]
  },
  {
   "cell_type": "code",
   "execution_count": 29,
   "id": "38694836",
   "metadata": {},
   "outputs": [],
   "source": [
    "turnout = pd.read_spss('../data/raw/best_post_2019_rand_prob.spss')"
   ]
  },
  {
   "cell_type": "markdown",
   "id": "56e2b8b7",
   "metadata": {},
   "source": [
    "<h2>Data Manipulation</h2>"
   ]
  },
  {
   "cell_type": "code",
   "execution_count": 38,
   "id": "3773b8f7",
   "metadata": {},
   "outputs": [
    {
     "data": {
      "text/plain": [
       "array(['Aged 15 years and under', 'Aged 16 to 24 years',\n",
       "       'Aged 25 to 34 years', 'Aged 35 to 49 years',\n",
       "       'Aged 50 to 64 years', 'Aged 65 years and over'], dtype=object)"
      ]
     },
     "execution_count": 38,
     "metadata": {},
     "output_type": "execute_result"
    }
   ],
   "source": [
    "demog['age_name'].unique()"
   ]
  },
  {
   "cell_type": "markdown",
   "id": "210b3977",
   "metadata": {},
   "source": [
    "<h3>Turnout Data</h3>"
   ]
  },
  {
   "cell_type": "code",
   "execution_count": 76,
   "id": "3adf5c88",
   "metadata": {},
   "outputs": [],
   "source": [
    "target_cols = ['b01', 'b02', 'b04', 'Age', 'y09', 'education', 'edlevel']\n",
    "\n",
    "turnout_subset = turnout[target_cols]\n",
    "turnout_subset.columns = ['voted', 'voter_choice', 'non_voter_choice', 'age', 'sex', 'qual', 'qual_level']"
   ]
  },
  {
   "cell_type": "markdown",
   "id": "fe69afb9",
   "metadata": {},
   "source": [
    "<h4>Recode Demographic Variables</h4>\n",
    "\n",
    "Recode to match levels in stratification table"
   ]
  },
  {
   "cell_type": "code",
   "execution_count": 59,
   "id": "4f467158",
   "metadata": {},
   "outputs": [
    {
     "data": {
      "text/plain": [
       "['Female', 'Male', 'Prefer not to say', 'Not stated', 'In another way']\n",
       "Categories (5, object): ['Female', 'In another way', 'Male', 'Not stated', 'Prefer not to say']"
      ]
     },
     "execution_count": 59,
     "metadata": {},
     "output_type": "execute_result"
    }
   ],
   "source": [
    "# see levels for turnout data\n",
    "turnout_subset['sex'].unique()"
   ]
  },
  {
   "cell_type": "code",
   "execution_count": 61,
   "id": "3fa10c45",
   "metadata": {},
   "outputs": [
    {
     "data": {
      "text/plain": [
       "array(['Female', 'Male'], dtype=object)"
      ]
     },
     "execution_count": 61,
     "metadata": {},
     "output_type": "execute_result"
    }
   ],
   "source": [
    "# see levels for demographic data\n",
    "demog['sex_name'].unique()"
   ]
  },
  {
   "cell_type": "code",
   "execution_count": 64,
   "id": "20a20653",
   "metadata": {},
   "outputs": [
    {
     "data": {
      "text/plain": [
       "(37, 8)"
      ]
     },
     "execution_count": 64,
     "metadata": {},
     "output_type": "execute_result"
    }
   ],
   "source": [
    "# only 37 rows are not labelled male / female \n",
    "turnout_subset[~turnout_subset['sex'].isin(['Female', 'Male'])].shape"
   ]
  },
  {
   "cell_type": "markdown",
   "id": "1c1a3a9d",
   "metadata": {},
   "source": [
    "<h4>Recode Age Data</h4>"
   ]
  },
  {
   "cell_type": "code",
   "execution_count": 66,
   "id": "973264eb",
   "metadata": {},
   "outputs": [
    {
     "data": {
      "text/plain": [
       "[34.0, 'Refusal', 33.0, 22.0, 35.0, ..., 96.0, 98.0, 99.0, 95.0, 'Not stated']\n",
       "Length: 84\n",
       "Categories (84, object): [18.0, 19.0, 20.0, 21.0, ..., 98.0, 99.0, 'Not stated', 'Refusal']"
      ]
     },
     "execution_count": 66,
     "metadata": {},
     "output_type": "execute_result"
    }
   ],
   "source": [
    "# see levels for turnout data\n",
    "turnout_subset['age'].unique()"
   ]
  },
  {
   "cell_type": "code",
   "execution_count": 67,
   "id": "e2a40ca7",
   "metadata": {},
   "outputs": [
    {
     "data": {
      "text/plain": [
       "array(['Aged 15 years and under', 'Aged 16 to 24 years',\n",
       "       'Aged 25 to 34 years', 'Aged 35 to 49 years',\n",
       "       'Aged 50 to 64 years', 'Aged 65 years and over'], dtype=object)"
      ]
     },
     "execution_count": 67,
     "metadata": {},
     "output_type": "execute_result"
    }
   ],
   "source": [
    "demog['age_name'].unique()"
   ]
  },
  {
   "cell_type": "code",
   "execution_count": 68,
   "id": "0bc62332",
   "metadata": {},
   "outputs": [],
   "source": [
    "def recode_age(s):\n",
    "    if type(s) == str:\n",
    "        return s\n",
    "    elif s <= 15:\n",
    "        return 'Aged 15 years and under'\n",
    "    elif s <= 24:\n",
    "        return 'Aged 16 to 24 years'\n",
    "    elif s <= 34:\n",
    "        return 'Aged 25 to 34 years'\n",
    "    elif s <= 49:\n",
    "        return 'Aged 35 to 49 years'\n",
    "    elif s <= 64:\n",
    "        return 'Aged 50 to 64 years'\n",
    "    else:\n",
    "        return 'Aged 65 years and over'"
   ]
  },
  {
   "cell_type": "code",
   "execution_count": 71,
   "id": "13230fd2",
   "metadata": {},
   "outputs": [],
   "source": [
    "turnout_subset['recoded_age'] = turnout_subset['age'].apply(recode_age)"
   ]
  },
  {
   "cell_type": "code",
   "execution_count": 73,
   "id": "39b5cf42",
   "metadata": {},
   "outputs": [
    {
     "data": {
      "text/html": [
       "<div>\n",
       "<style scoped>\n",
       "    .dataframe tbody tr th:only-of-type {\n",
       "        vertical-align: middle;\n",
       "    }\n",
       "\n",
       "    .dataframe tbody tr th {\n",
       "        vertical-align: top;\n",
       "    }\n",
       "\n",
       "    .dataframe thead th {\n",
       "        text-align: right;\n",
       "    }\n",
       "</style>\n",
       "<table border=\"1\" class=\"dataframe\">\n",
       "  <thead>\n",
       "    <tr style=\"text-align: right;\">\n",
       "      <th></th>\n",
       "      <th>age</th>\n",
       "      <th>recoded_age</th>\n",
       "    </tr>\n",
       "  </thead>\n",
       "  <tbody>\n",
       "    <tr>\n",
       "      <th>1458</th>\n",
       "      <td>48.0</td>\n",
       "      <td>Aged 35 to 49 years</td>\n",
       "    </tr>\n",
       "    <tr>\n",
       "      <th>2138</th>\n",
       "      <td>55.0</td>\n",
       "      <td>Aged 50 to 64 years</td>\n",
       "    </tr>\n",
       "    <tr>\n",
       "      <th>3358</th>\n",
       "      <td>78.0</td>\n",
       "      <td>Aged 65 years and over</td>\n",
       "    </tr>\n",
       "    <tr>\n",
       "      <th>206</th>\n",
       "      <td>76.0</td>\n",
       "      <td>Aged 65 years and over</td>\n",
       "    </tr>\n",
       "    <tr>\n",
       "      <th>3610</th>\n",
       "      <td>76.0</td>\n",
       "      <td>Aged 65 years and over</td>\n",
       "    </tr>\n",
       "    <tr>\n",
       "      <th>1616</th>\n",
       "      <td>Refusal</td>\n",
       "      <td>Refusal</td>\n",
       "    </tr>\n",
       "    <tr>\n",
       "      <th>1411</th>\n",
       "      <td>Refusal</td>\n",
       "      <td>Refusal</td>\n",
       "    </tr>\n",
       "    <tr>\n",
       "      <th>1071</th>\n",
       "      <td>72.0</td>\n",
       "      <td>Aged 65 years and over</td>\n",
       "    </tr>\n",
       "    <tr>\n",
       "      <th>392</th>\n",
       "      <td>38.0</td>\n",
       "      <td>Aged 35 to 49 years</td>\n",
       "    </tr>\n",
       "    <tr>\n",
       "      <th>3676</th>\n",
       "      <td>71.0</td>\n",
       "      <td>Aged 65 years and over</td>\n",
       "    </tr>\n",
       "  </tbody>\n",
       "</table>\n",
       "</div>"
      ],
      "text/plain": [
       "          age             recoded_age\n",
       "1458     48.0     Aged 35 to 49 years\n",
       "2138     55.0     Aged 50 to 64 years\n",
       "3358     78.0  Aged 65 years and over\n",
       "206      76.0  Aged 65 years and over\n",
       "3610     76.0  Aged 65 years and over\n",
       "1616  Refusal                 Refusal\n",
       "1411  Refusal                 Refusal\n",
       "1071     72.0  Aged 65 years and over\n",
       "392      38.0     Aged 35 to 49 years\n",
       "3676     71.0  Aged 65 years and over"
      ]
     },
     "execution_count": 73,
     "metadata": {},
     "output_type": "execute_result"
    }
   ],
   "source": [
    "# verify it worked as expected\n",
    "turnout_subset[['age', 'recoded_age']].sample(10)"
   ]
  },
  {
   "cell_type": "markdown",
   "id": "cfd1209d",
   "metadata": {},
   "source": [
    "<h4>Recode Qualification Dat</h4>"
   ]
  },
  {
   "cell_type": "code",
   "execution_count": 75,
   "id": "9c2b7409",
   "metadata": {},
   "outputs": [
    {
     "data": {
      "text/plain": [
       "array(['Does not apply', 'No qualifications',\n",
       "       'Level 1 and entry level qualifications: 1 to 4 GCSEs grade A* to C, Any GCSEs at other grades, O levels or CSEs (any grades), 1 AS level, NVQ level 1, Foundation GNVQ, Basic or Essential Skills',\n",
       "       'Level 2 qualifications: 5 or more GCSEs (A* to C or 9 to 4), O levels (passes), CSEs (grade 1), School Certification, 1 A level, 2 to 3 AS levels, VCEs, Intermediate or Higher Diploma, Welsh Baccalaureate Intermediate Diploma, NVQ level 2, Intermediate GNVQ, City and Guilds Craft, BTEC First or General Diploma, RSA Diploma',\n",
       "       'Level 3 qualifications: 2 or more A levels or VCEs, 4 or more AS levels, Higher School Certificate, Progression or Advanced Diploma, Welsh Baccalaureate Advance Diploma, NVQ level 3; Advanced GNVQ, City and Guilds Advanced Craft, ONC, OND, BTEC National, RSA Advanced Diploma',\n",
       "       'Level 4 qualifications or above: degree (BA, BSc), higher degree (MA, PhD, PGCE), NVQ level 4 to 5, HNC, HND, RSA Higher Diploma, BTEC Higher level, professional qualifications (for example, teaching, nursing, accountancy)',\n",
       "       'Other: apprenticeships, vocational or work-related qualifications, other qualifications achieved in England or Wales, qualifications achieved outside England or Wales (equivalent not stated or unknown)'],\n",
       "      dtype=object)"
      ]
     },
     "execution_count": 75,
     "metadata": {},
     "output_type": "execute_result"
    }
   ],
   "source": [
    "demog['qual_name'].unique()"
   ]
  },
  {
   "cell_type": "code",
   "execution_count": 79,
   "id": "bf7e5e29",
   "metadata": {},
   "outputs": [
    {
     "data": {
      "text/plain": [
       "['Undergraduate', NaN, 'Postgrad', 'No qualifications', 'Below GCSE', 'GCSE', 'A-level']\n",
       "Categories (6, object): ['A-level', 'Below GCSE', 'GCSE', 'No qualifications', 'Postgrad', 'Undergraduate']"
      ]
     },
     "execution_count": 79,
     "metadata": {},
     "output_type": "execute_result"
    }
   ],
   "source": [
    "turnout_subset['qual_level'].unique()"
   ]
  },
  {
   "cell_type": "code",
   "execution_count": null,
   "id": "420bf6e5",
   "metadata": {},
   "outputs": [],
   "source": []
  }
 ],
 "metadata": {
  "kernelspec": {
   "display_name": "Python 3 (ipykernel)",
   "language": "python",
   "name": "python3"
  },
  "language_info": {
   "codemirror_mode": {
    "name": "ipython",
    "version": 3
   },
   "file_extension": ".py",
   "mimetype": "text/x-python",
   "name": "python",
   "nbconvert_exporter": "python",
   "pygments_lexer": "ipython3",
   "version": "3.11.5"
  }
 },
 "nbformat": 4,
 "nbformat_minor": 5
}
